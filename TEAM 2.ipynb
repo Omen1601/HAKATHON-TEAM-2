{
 "cells": [
  {
   "cell_type": "markdown",
   "id": "23fc652e",
   "metadata": {},
   "source": [
    "# 1.Questions"
   ]
  },
  {
   "cell_type": "code",
   "execution_count": 23,
   "id": "3f00a2a4",
   "metadata": {},
   "outputs": [
    {
     "name": "stdout",
     "output_type": "stream",
     "text": [
      "Enter a number: 5\n",
      "The square root of 5.0 is 2.23606797749979\n"
     ]
    }
   ],
   "source": [
    "n = float(input('Enter a number: '))\n",
    "n_sqrt = n ** 0.5\n",
    "print(f\"The square root of {n} is {n_sqrt}\")"
   ]
  },
  {
   "cell_type": "markdown",
   "id": "8c4afdf2",
   "metadata": {},
   "source": [
    "# 2.Questions"
   ]
  },
  {
   "cell_type": "code",
   "execution_count": 31,
   "id": "0bdf0ef5",
   "metadata": {},
   "outputs": [
    {
     "name": "stdout",
     "output_type": "stream",
     "text": [
      "Enter value of X: 5\n",
      "Enter value of y: 3\n",
      "They are unequal\n",
      "They are unequal\n",
      "They are unequal\n",
      "They are unequal\n",
      "They are unequal\n",
      "They are unequal\n",
      "They are unequal\n",
      "They are unequal\n",
      "They are unequal\n",
      "They are unequal\n"
     ]
    }
   ],
   "source": [
    "X = int(input(\"Enter value of X: \"))\n",
    "y = int(input(\"Enter value of y: \"))\n",
    "\n",
    "for _ in range(0, 10):\n",
    "    if X == y:\n",
    "        print(\"They are equal\")\n",
    "    else:\n",
    "        print(\"They are unequal\")\n"
   ]
  },
  {
   "cell_type": "markdown",
   "id": "7952f4f8",
   "metadata": {},
   "source": [
    "# 3.Questions"
   ]
  },
  {
   "cell_type": "code",
   "execution_count": 14,
   "id": "6766a4e6",
   "metadata": {},
   "outputs": [
    {
     "name": "stdout",
     "output_type": "stream",
     "text": [
      "0\n"
     ]
    }
   ],
   "source": [
    "a, b = 0, 0 \n",
    "if a == b:\n",
    "    c = a + b\n",
    "    print(c)"
   ]
  },
  {
   "cell_type": "markdown",
   "id": "d30fb1d5",
   "metadata": {},
   "source": [
    "# 4.Questions"
   ]
  },
  {
   "cell_type": "code",
   "execution_count": 27,
   "id": "e8a0d5f0",
   "metadata": {
    "scrolled": true
   },
   "outputs": [
    {
     "name": "stdout",
     "output_type": "stream",
     "text": [
      "250\n",
      "500\n",
      "750\n",
      "feefeefee\n",
      "feefeefeefee\n",
      "feefeefeefeefee\n",
      "feefeefeefeefeefee\n",
      "feefeefeefeefeefeefee\n"
     ]
    }
   ],
   "source": [
    "fee = 250\n",
    "i = 0\n",
    "\n",
    "while fee <= 2000:\n",
    "    if fee <= 750:\n",
    "        print(fee)\n",
    "    else:\n",
    "        print(\"fee\" * i)\n",
    "\n",
    "    i = i + 1\n",
    "    fee = fee + 250\n"
   ]
  },
  {
   "cell_type": "markdown",
   "id": "5f7ec3c6",
   "metadata": {},
   "source": [
    "# 5.Question"
   ]
  },
  {
   "cell_type": "code",
   "execution_count": 32,
   "id": "24f9aa80",
   "metadata": {},
   "outputs": [
    {
     "name": "stdout",
     "output_type": "stream",
     "text": [
      "1\n",
      "0\n",
      "3\n",
      "2\n",
      "5\n",
      "4\n",
      "7\n",
      "6\n",
      "9\n",
      "8\n"
     ]
    }
   ],
   "source": [
    "step = 10\n",
    "\n",
    "for e in range(0, step):\n",
    "    if e % 2 == 0:\n",
    "        print(e + 1)\n",
    "    else:\n",
    "        print(e - 1)\n"
   ]
  },
  {
   "cell_type": "markdown",
   "id": "e655aad8",
   "metadata": {},
   "source": [
    "# 6.Question"
   ]
  },
  {
   "cell_type": "code",
   "execution_count": 33,
   "id": "cbe1e4bb",
   "metadata": {},
   "outputs": [
    {
     "name": "stdout",
     "output_type": "stream",
     "text": [
      "come t\n",
      "come t\n",
      "come t\n",
      "come t\n",
      "come t\n",
      "come t\n"
     ]
    }
   ],
   "source": [
    "str_value = \"welcome to symbiosis\"\n",
    "a = str_value[3:9]\n",
    "\n",
    "for s in range(len(a)):\n",
    "    print(a[:9])\n"
   ]
  },
  {
   "cell_type": "markdown",
   "id": "bcc6679e",
   "metadata": {},
   "source": [
    "# 7.Question"
   ]
  },
  {
   "cell_type": "code",
   "execution_count": 34,
   "id": "9a4d7944",
   "metadata": {},
   "outputs": [
    {
     "name": "stdout",
     "output_type": "stream",
     "text": [
      "hello all\n"
     ]
    }
   ],
   "source": [
    "print(\"hello all\")\n",
    "\n",
    "for i in range(2, 5):\n",
    "    for j in range(1, 10):\n",
    "        def title():\n",
    "            if i <= 5:\n",
    "                pass\n"
   ]
  },
  {
   "cell_type": "markdown",
   "id": "89ed5d96",
   "metadata": {},
   "source": [
    "# 8.Question "
   ]
  },
  {
   "cell_type": "code",
   "execution_count": 30,
   "id": "a1a358f9",
   "metadata": {},
   "outputs": [
    {
     "name": "stdout",
     "output_type": "stream",
     "text": [
      "hello all\n"
     ]
    }
   ],
   "source": [
    "print(\"hello all\")\n",
    "\n",
    "for i in range(2, 5):\n",
    "    for j in range(1, 10):\n",
    "        def title():\n",
    "            if i <= 5:\n",
    "                pass\n"
   ]
  },
  {
   "cell_type": "markdown",
   "id": "b79b89ac",
   "metadata": {},
   "source": [
    "# 9.Question"
   ]
  },
  {
   "cell_type": "code",
   "execution_count": 36,
   "id": "ea4d3aef",
   "metadata": {},
   "outputs": [
    {
     "name": "stdout",
     "output_type": "stream",
     "text": [
      "A\n",
      "A\n",
      "A\n",
      "A\n",
      "A\n",
      "A\n",
      "A\n",
      "A\n"
     ]
    }
   ],
   "source": [
    "L = [1, 2, 3, 4, 5, 6, 'e', 'f']\n",
    "\n",
    "for i in L:\n",
    "    if i == 'a':\n",
    "        break\n",
    "    else:\n",
    "        print(\"A\")\n"
   ]
  },
  {
   "cell_type": "markdown",
   "id": "29015ebf",
   "metadata": {},
   "source": [
    "# 10.Question"
   ]
  },
  {
   "cell_type": "code",
   "execution_count": 37,
   "id": "f6a61cb6",
   "metadata": {},
   "outputs": [
    {
     "name": "stdout",
     "output_type": "stream",
     "text": [
      "notmaiden\n",
      "notmaiden\n",
      "notmaiden\n",
      "notmaiden\n",
      "maiden\n",
      "notmaiden\n"
     ]
    }
   ],
   "source": [
    "runs = (1, 6, 7, 8, 0, 99)\n",
    "\n",
    "for i in runs:\n",
    "    if i == 0:\n",
    "        print(\"maiden\")\n",
    "    else:\n",
    "        print(\"notmaiden\")\n"
   ]
  },
  {
   "cell_type": "markdown",
   "id": "5fc3d294",
   "metadata": {},
   "source": [
    "# ====================Code Writing===================="
   ]
  },
  {
   "cell_type": "markdown",
   "id": "60d41dbb",
   "metadata": {},
   "source": [
    "# 1.Question \n",
    "**WAP to print the position or index of a given string (taken as input from a user) from a given list of strings.**"
   ]
  },
  {
   "cell_type": "code",
   "execution_count": 40,
   "id": "c0b28ce3",
   "metadata": {},
   "outputs": [
    {
     "name": "stdout",
     "output_type": "stream",
     "text": [
      "Enter a string to find its position in the list: apple\n",
      "The string 'apple' is found at position 0 in the list.\n"
     ]
    }
   ],
   "source": [
    "def find_string_position(input_string, s_list):\n",
    "    try:\n",
    "        position = s_list.index(input_string)\n",
    "        return position\n",
    "    except ValueError:\n",
    "        return -1\n",
    "\n",
    "s_list = [\"apple\", \"banana\", \"orange\", \"grape\", \"kiwi\"]\n",
    "user_input = input(\"Enter a string to find its position in the list: \")\n",
    "result = find_string_position(user_input, s_list)\n",
    "\n",
    "if result != -1:\n",
    "    print(f\"The string '{user_input}' is found at position {result} in the list.\")\n",
    "else:\n",
    "    print(f\"The string '{user_input}' is not present in the list.\")\n"
   ]
  },
  {
   "cell_type": "markdown",
   "id": "4aaa76bf",
   "metadata": {},
   "source": [
    "# 2.Question\n",
    "**Create a function count_words() which takes a string as input and creates a dictionary with a word in the string as a key and its value as the number of times the word is repeated in the string. It should return the dictionary.**"
   ]
  },
  {
   "cell_type": "code",
   "execution_count": 41,
   "id": "304f656c",
   "metadata": {},
   "outputs": [
    {
     "name": "stdout",
     "output_type": "stream",
     "text": [
      "{'today': 1, 'is': 2, 'the': 1, 'hackathon': 1, 'compitation': 1, 'and': 1, 'my': 1, 'team': 1, 'member': 1, 'ajay': 1, '&': 1, 'dhanashree': 1}\n"
     ]
    }
   ],
   "source": [
    "def count_words(input_string):\n",
    "    words = input_string.split()\n",
    "    word_count = {}\n",
    "\n",
    "    for word in words:\n",
    "        word = word.strip(\".,!?()[]{}:\\\"'\")\n",
    "        word = word.lower()\n",
    "        word_count[word] = word_count.get(word, 0) + 1\n",
    "\n",
    "    return word_count\n",
    "\n",
    "input_string = \"Today is the Hackathon compitation, and My team member is Ajay & Dhanashree\"\n",
    "result = count_words(input_string)\n",
    "\n",
    "print(result)"
   ]
  },
  {
   "cell_type": "markdown",
   "id": "fe7e19e0",
   "metadata": {},
   "source": [
    "# 3.Question\n",
    "**Write a Python program to create a class called mobile which contains a method called display which displays the name of the mobile owner, mobile brand, colour and camera pixel**"
   ]
  },
  {
   "cell_type": "code",
   "execution_count": 42,
   "id": "cdc3a631",
   "metadata": {},
   "outputs": [
    {
     "name": "stdout",
     "output_type": "stream",
     "text": [
      "Mobile 1 Details:\n",
      "Mobile Owner: OMKAR\n",
      "Mobile Brand: NOTHING\n",
      "Mobile Color: Black\n",
      "Camera Pixel: 50 MP\n",
      "\n",
      "Mobile 2 Details:\n",
      "Mobile Owner: AJAY DHANASHREE\n",
      "Mobile Brand: OPPO\n",
      "Mobile Color: White\n",
      "Camera Pixel: 64 MP\n"
     ]
    }
   ],
   "source": [
    "class Mobile:\n",
    "    def __init__(self, owner, brand, color, camera_pixel):\n",
    "        self.owner = owner\n",
    "        self.brand = brand\n",
    "        self.color = color\n",
    "        self.camera_pixel = camera_pixel\n",
    "\n",
    "    def display(self):\n",
    "        print(\"Mobile Owner:\", self.owner)\n",
    "        print(\"Mobile Brand:\", self.brand)\n",
    "        print(\"Mobile Color:\", self.color)\n",
    "        print(\"Camera Pixel:\", self.camera_pixel)\n",
    "\n",
    "\n",
    "mobile1 = Mobile(owner=\"OMKAR\", brand=\"NOTHING\", color=\"Black\", camera_pixel=\"50 MP\")\n",
    "mobile2 = Mobile(owner=\"AJAY DHANASHREE\", brand=\"OPPO\", color=\"White\", camera_pixel=\"64 MP\")\n",
    "\n",
    "print(\"Mobile 1 Details:\")\n",
    "mobile1.display()\n",
    "\n",
    "print(\"\\nMobile 2 Details:\")\n",
    "mobile2.display()\n"
   ]
  },
  {
   "cell_type": "markdown",
   "id": "06df7e48",
   "metadata": {},
   "source": [
    "# 4.Question\n",
    "**str1 = \"ALL is well\"**\n",
    "\n",
    "**Write a code snippet to convert a string to a list.**"
   ]
  },
  {
   "cell_type": "code",
   "execution_count": 43,
   "id": "bcf91da6",
   "metadata": {},
   "outputs": [
    {
     "name": "stdout",
     "output_type": "stream",
     "text": [
      "Original String: ALL is well\n",
      "List of Characters: ['A', 'L', 'L', ' ', 'i', 's', ' ', 'w', 'e', 'l', 'l']\n"
     ]
    }
   ],
   "source": [
    "str1 = \"ALL is well\"\n",
    "\n",
    "c_list = list(str1)\n",
    "\n",
    "print(\"Original String:\", str1)\n",
    "print(\"List of Characters:\", c_list)\n"
   ]
  },
  {
   "cell_type": "markdown",
   "id": "af111a97",
   "metadata": {},
   "source": [
    "# 5.Question\n",
    "**Write a code snippet to generate the square of every element of a list.**"
   ]
  },
  {
   "cell_type": "code",
   "execution_count": 44,
   "id": "ca24bd4a",
   "metadata": {},
   "outputs": [
    {
     "name": "stdout",
     "output_type": "stream",
     "text": [
      "Original List: [1, 2, 3, 4, 5]\n",
      "Squared List: [1, 4, 9, 16, 25]\n"
     ]
    }
   ],
   "source": [
    "O_list = [1, 2, 3, 4, 5]\n",
    "\n",
    "s_list = [x**2 for x in O_list]\n",
    "\n",
    "print(\"Original List:\", O_list)\n",
    "print(\"Squared List:\", s_list)\n"
   ]
  },
  {
   "cell_type": "code",
   "execution_count": null,
   "id": "0d6932cd",
   "metadata": {},
   "outputs": [],
   "source": []
  }
 ],
 "metadata": {
  "kernelspec": {
   "display_name": "Python 3 (ipykernel)",
   "language": "python",
   "name": "python3"
  },
  "language_info": {
   "codemirror_mode": {
    "name": "ipython",
    "version": 3
   },
   "file_extension": ".py",
   "mimetype": "text/x-python",
   "name": "python",
   "nbconvert_exporter": "python",
   "pygments_lexer": "ipython3",
   "version": "3.9.13"
  }
 },
 "nbformat": 4,
 "nbformat_minor": 5
}
